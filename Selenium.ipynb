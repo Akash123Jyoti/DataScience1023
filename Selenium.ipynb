{
 "cells": [
  {
   "cell_type": "code",
   "execution_count": 1,
   "id": "b46f7dce",
   "metadata": {},
   "outputs": [],
   "source": [
    "# !pip install webdriver_manager"
   ]
  },
  {
   "cell_type": "code",
   "execution_count": 1,
   "id": "09dcb67b",
   "metadata": {},
   "outputs": [],
   "source": [
    "import selenium\n",
    "import pandas as pd\n",
    "from selenium import webdriver\n",
    "from selenium.webdriver.chrome.service import Service\n",
    "from selenium.webdriver.common.by import By\n",
    "from webdriver_manager.chrome import ChromeDriverManager\n",
    "import time\n",
    "\n",
    "import warnings\n",
    "warnings.filterwarnings('ignore')"
   ]
  },
  {
   "cell_type": "code",
   "execution_count": 2,
   "id": "f1b5fcb0",
   "metadata": {},
   "outputs": [],
   "source": [
    "driver=webdriver.Chrome(service=Service(ChromeDriverManager().install()))"
   ]
  },
  {
   "cell_type": "code",
   "execution_count": 24,
   "id": "01f81072",
   "metadata": {},
   "outputs": [],
   "source": [
    "#opening the naukri page on automated chrome browser\n",
    "\n",
    "driver.get('https://www.naukri.com/')"
   ]
  },
  {
   "cell_type": "code",
   "execution_count": 25,
   "id": "7bbc4b26",
   "metadata": {},
   "outputs": [],
   "source": [
    "# Entering designation required in question using class name\n",
    "\n",
    "designation = driver.find_element(By.CLASS_NAME,\"suggestor-input \")\n",
    "\n",
    "designation.send_keys('Data Scientist')"
   ]
  },
  {
   "cell_type": "code",
   "execution_count": 26,
   "id": "bd73a021",
   "metadata": {},
   "outputs": [],
   "source": [
    "# Entering location using Xpath\n",
    "\n",
    "location = driver.find_element(By.XPATH,\"/html/body/div[1]/div[7]/div/div/div[5]/div/div/div/div[1]/div/input\")\n",
    "\n",
    "location.send_keys('Bangalore')"
   ]
  },
  {
   "cell_type": "code",
   "execution_count": 27,
   "id": "13a80871",
   "metadata": {},
   "outputs": [],
   "source": [
    "# search the key\n",
    "\n",
    "search = driver.find_element(By.CLASS_NAME,\"qsbSubmit\")\n",
    "search.click()"
   ]
  },
  {
   "cell_type": "code",
   "execution_count": 28,
   "id": "b9144624",
   "metadata": {},
   "outputs": [
    {
     "data": {
      "text/plain": [
       "['Data Scientist, Marketing',\n",
       " 'Data Scientist',\n",
       " 'Data Scientist',\n",
       " 'Data Science Engineer',\n",
       " 'Data Scientist-Senior Associate -',\n",
       " 'Data Scientist',\n",
       " 'Data Scientist',\n",
       " 'Data Scientist - Senior Associate',\n",
       " 'SAS Data Scientist',\n",
       " 'Data Scientist']"
      ]
     },
     "execution_count": 28,
     "metadata": {},
     "output_type": "execute_result"
    }
   ],
   "source": [
    "job_title = []\n",
    "\n",
    "for i in driver.find_elements(By.XPATH,'//div[@ class=\"cust-job-tuple layout-wrapper lay-2 sjw__tuple \"]/div/a')[0:10]:\n",
    "    job_title.append(i.text[:33])\n",
    "    \n",
    "job_title    "
   ]
  },
  {
   "cell_type": "code",
   "execution_count": 29,
   "id": "183f5205",
   "metadata": {},
   "outputs": [
    {
     "data": {
      "text/plain": [
       "['Bangalore/Bengaluru, Kolkata, Mumbai, New Delhi, Hyderabad/Secunderabad, Pune, Chennai',\n",
       " 'Kolkata, Mumbai, New Delhi, Hyderabad, Pune, Chennai, Bengaluru',\n",
       " 'Kolkata, Mumbai, New Delhi, Hyderabad, Pune, Chennai, Bengaluru',\n",
       " 'Hybrid - Bangalore Rural, Noida, Pune, Chennai, Mumbai (All Areas)',\n",
       " 'Mumbai, Hyderabad, Bengaluru',\n",
       " 'Hybrid - Hyderabad, Pune, Bengaluru',\n",
       " 'Hybrid - Hyderabad, Pune, Bengaluru',\n",
       " 'Mumbai, Hyderabad, Bengaluru',\n",
       " 'Mumbai, Bengaluru, Delhi / NCR',\n",
       " 'Bengaluru']"
      ]
     },
     "execution_count": 29,
     "metadata": {},
     "output_type": "execute_result"
    }
   ],
   "source": [
    "job_location = []\n",
    "\n",
    "for i in driver.find_elements(By.XPATH,'//span[@ class=\"locWdth\"]')[0:10]:\n",
    "    job_location.append(i.text)\n",
    "    \n",
    "job_location    "
   ]
  },
  {
   "cell_type": "code",
   "execution_count": 30,
   "id": "ad5c4bdb",
   "metadata": {},
   "outputs": [
    {
     "data": {
      "text/plain": [
       "['Coursera',\n",
       " 'Essenware',\n",
       " 'Essenware',\n",
       " 'Futran Tech Solutions',\n",
       " 'PwC Service Delivery Center',\n",
       " 'Infosys',\n",
       " 'Tech Mahindra',\n",
       " 'PwC Service Delivery Center',\n",
       " 'Lericon Informatics',\n",
       " 'Ericsson']"
      ]
     },
     "execution_count": 30,
     "metadata": {},
     "output_type": "execute_result"
    }
   ],
   "source": [
    "company = []\n",
    "\n",
    "for i in driver.find_elements(By.XPATH,'//span[@ class=\" comp-dtls-wrap\"]/a[1]')[0:10]:\n",
    "    company.append(i.text)\n",
    "    \n",
    "company    "
   ]
  },
  {
   "cell_type": "code",
   "execution_count": 31,
   "id": "9903ffa5",
   "metadata": {},
   "outputs": [
    {
     "data": {
      "text/plain": [
       "['4-6 Yrs',\n",
       " '2-5 Yrs',\n",
       " '2-5 Yrs',\n",
       " '6-9 Yrs',\n",
       " '4-6 Yrs',\n",
       " '4-8 Yrs',\n",
       " '6-10 Yrs',\n",
       " '3-8 Yrs',\n",
       " '2-6 Yrs',\n",
       " '0-3 Yrs']"
      ]
     },
     "execution_count": 31,
     "metadata": {},
     "output_type": "execute_result"
    }
   ],
   "source": [
    "exp = []\n",
    "\n",
    "for i in driver.find_elements(By.XPATH,'//span[@ class=\"expwdth\"]')[0:10]:\n",
    "    exp.append(i.text)\n",
    "    \n",
    "exp    "
   ]
  },
  {
   "cell_type": "code",
   "execution_count": 32,
   "id": "4c21a54a",
   "metadata": {},
   "outputs": [
    {
     "data": {
      "text/plain": [
       "['Not disclosed',\n",
       " 'Not disclosed',\n",
       " 'Not disclosed',\n",
       " 'Not disclosed',\n",
       " 'Not disclosed',\n",
       " 'Not disclosed',\n",
       " 'Not disclosed',\n",
       " 'Not disclosed',\n",
       " 'Not disclosed',\n",
       " 'Not disclosed']"
      ]
     },
     "execution_count": 32,
     "metadata": {},
     "output_type": "execute_result"
    }
   ],
   "source": [
    "salary = []\n",
    "\n",
    "for i in driver.find_elements(By.XPATH,'//span[@ class=\"ni-job-tuple-icon ni-job-tuple-icon-srp-rupee sal\"]/span')[0:10]:\n",
    "    salary.append(i.text)\n",
    "    \n",
    "salary    "
   ]
  },
  {
   "cell_type": "code",
   "execution_count": 33,
   "id": "c99f81e2",
   "metadata": {},
   "outputs": [
    {
     "data": {
      "text/html": [
       "<div>\n",
       "<style scoped>\n",
       "    .dataframe tbody tr th:only-of-type {\n",
       "        vertical-align: middle;\n",
       "    }\n",
       "\n",
       "    .dataframe tbody tr th {\n",
       "        vertical-align: top;\n",
       "    }\n",
       "\n",
       "    .dataframe thead th {\n",
       "        text-align: right;\n",
       "    }\n",
       "</style>\n",
       "<table border=\"1\" class=\"dataframe\">\n",
       "  <thead>\n",
       "    <tr style=\"text-align: right;\">\n",
       "      <th></th>\n",
       "      <th>COMPANY</th>\n",
       "      <th>DESIGNATION</th>\n",
       "      <th>LOCATION</th>\n",
       "      <th>EXPERIENCE</th>\n",
       "    </tr>\n",
       "  </thead>\n",
       "  <tbody>\n",
       "    <tr>\n",
       "      <th>0</th>\n",
       "      <td>Coursera</td>\n",
       "      <td>Data Scientist, Marketing</td>\n",
       "      <td>Bangalore/Bengaluru, Kolkata, Mumbai, New Delh...</td>\n",
       "      <td>4-6 Yrs</td>\n",
       "    </tr>\n",
       "    <tr>\n",
       "      <th>1</th>\n",
       "      <td>Essenware</td>\n",
       "      <td>Data Scientist</td>\n",
       "      <td>Kolkata, Mumbai, New Delhi, Hyderabad, Pune, C...</td>\n",
       "      <td>2-5 Yrs</td>\n",
       "    </tr>\n",
       "    <tr>\n",
       "      <th>2</th>\n",
       "      <td>Essenware</td>\n",
       "      <td>Data Scientist</td>\n",
       "      <td>Kolkata, Mumbai, New Delhi, Hyderabad, Pune, C...</td>\n",
       "      <td>2-5 Yrs</td>\n",
       "    </tr>\n",
       "    <tr>\n",
       "      <th>3</th>\n",
       "      <td>Futran Tech Solutions</td>\n",
       "      <td>Data Science Engineer</td>\n",
       "      <td>Hybrid - Bangalore Rural, Noida, Pune, Chennai...</td>\n",
       "      <td>6-9 Yrs</td>\n",
       "    </tr>\n",
       "    <tr>\n",
       "      <th>4</th>\n",
       "      <td>PwC Service Delivery Center</td>\n",
       "      <td>Data Scientist-Senior Associate -</td>\n",
       "      <td>Mumbai, Hyderabad, Bengaluru</td>\n",
       "      <td>4-6 Yrs</td>\n",
       "    </tr>\n",
       "    <tr>\n",
       "      <th>5</th>\n",
       "      <td>Infosys</td>\n",
       "      <td>Data Scientist</td>\n",
       "      <td>Hybrid - Hyderabad, Pune, Bengaluru</td>\n",
       "      <td>4-8 Yrs</td>\n",
       "    </tr>\n",
       "    <tr>\n",
       "      <th>6</th>\n",
       "      <td>Tech Mahindra</td>\n",
       "      <td>Data Scientist</td>\n",
       "      <td>Hybrid - Hyderabad, Pune, Bengaluru</td>\n",
       "      <td>6-10 Yrs</td>\n",
       "    </tr>\n",
       "    <tr>\n",
       "      <th>7</th>\n",
       "      <td>PwC Service Delivery Center</td>\n",
       "      <td>Data Scientist - Senior Associate</td>\n",
       "      <td>Mumbai, Hyderabad, Bengaluru</td>\n",
       "      <td>3-8 Yrs</td>\n",
       "    </tr>\n",
       "    <tr>\n",
       "      <th>8</th>\n",
       "      <td>Lericon Informatics</td>\n",
       "      <td>SAS Data Scientist</td>\n",
       "      <td>Mumbai, Bengaluru, Delhi / NCR</td>\n",
       "      <td>2-6 Yrs</td>\n",
       "    </tr>\n",
       "    <tr>\n",
       "      <th>9</th>\n",
       "      <td>Ericsson</td>\n",
       "      <td>Data Scientist</td>\n",
       "      <td>Bengaluru</td>\n",
       "      <td>0-3 Yrs</td>\n",
       "    </tr>\n",
       "  </tbody>\n",
       "</table>\n",
       "</div>"
      ],
      "text/plain": [
       "                       COMPANY                        DESIGNATION  \\\n",
       "0                     Coursera          Data Scientist, Marketing   \n",
       "1                    Essenware                     Data Scientist   \n",
       "2                    Essenware                     Data Scientist   \n",
       "3        Futran Tech Solutions              Data Science Engineer   \n",
       "4  PwC Service Delivery Center  Data Scientist-Senior Associate -   \n",
       "5                      Infosys                     Data Scientist   \n",
       "6                Tech Mahindra                     Data Scientist   \n",
       "7  PwC Service Delivery Center  Data Scientist - Senior Associate   \n",
       "8          Lericon Informatics                 SAS Data Scientist   \n",
       "9                     Ericsson                     Data Scientist   \n",
       "\n",
       "                                            LOCATION EXPERIENCE  \n",
       "0  Bangalore/Bengaluru, Kolkata, Mumbai, New Delh...    4-6 Yrs  \n",
       "1  Kolkata, Mumbai, New Delhi, Hyderabad, Pune, C...    2-5 Yrs  \n",
       "2  Kolkata, Mumbai, New Delhi, Hyderabad, Pune, C...    2-5 Yrs  \n",
       "3  Hybrid - Bangalore Rural, Noida, Pune, Chennai...    6-9 Yrs  \n",
       "4                       Mumbai, Hyderabad, Bengaluru    4-6 Yrs  \n",
       "5                Hybrid - Hyderabad, Pune, Bengaluru    4-8 Yrs  \n",
       "6                Hybrid - Hyderabad, Pune, Bengaluru   6-10 Yrs  \n",
       "7                       Mumbai, Hyderabad, Bengaluru    3-8 Yrs  \n",
       "8                     Mumbai, Bengaluru, Delhi / NCR    2-6 Yrs  \n",
       "9                                          Bengaluru    0-3 Yrs  "
      ]
     },
     "execution_count": 33,
     "metadata": {},
     "output_type": "execute_result"
    }
   ],
   "source": [
    "df = pd.DataFrame({'COMPANY':company,'DESIGNATION':job_title,'LOCATION':job_location,'EXPERIENCE':exp})\n",
    "\n",
    "df"
   ]
  },
  {
   "cell_type": "code",
   "execution_count": 34,
   "id": "b576d638",
   "metadata": {},
   "outputs": [
    {
     "data": {
      "text/plain": [
       "[<selenium.webdriver.remote.webelement.WebElement (session=\"6ed835879c9542f4877da5e8b6685d0d\", element=\"f.1BD7842E92A9EC393BF26562F31FF93F.d.B4113961878D19FFB9EFABA151DBCC8C.e.122\")>,\n",
       " <selenium.webdriver.remote.webelement.WebElement (session=\"6ed835879c9542f4877da5e8b6685d0d\", element=\"f.1BD7842E92A9EC393BF26562F31FF93F.d.B4113961878D19FFB9EFABA151DBCC8C.e.222\")>,\n",
       " <selenium.webdriver.remote.webelement.WebElement (session=\"6ed835879c9542f4877da5e8b6685d0d\", element=\"f.1BD7842E92A9EC393BF26562F31FF93F.d.B4113961878D19FFB9EFABA151DBCC8C.e.123\")>,\n",
       " <selenium.webdriver.remote.webelement.WebElement (session=\"6ed835879c9542f4877da5e8b6685d0d\", element=\"f.1BD7842E92A9EC393BF26562F31FF93F.d.B4113961878D19FFB9EFABA151DBCC8C.e.223\")>,\n",
       " <selenium.webdriver.remote.webelement.WebElement (session=\"6ed835879c9542f4877da5e8b6685d0d\", element=\"f.1BD7842E92A9EC393BF26562F31FF93F.d.B4113961878D19FFB9EFABA151DBCC8C.e.124\")>,\n",
       " <selenium.webdriver.remote.webelement.WebElement (session=\"6ed835879c9542f4877da5e8b6685d0d\", element=\"f.1BD7842E92A9EC393BF26562F31FF93F.d.B4113961878D19FFB9EFABA151DBCC8C.e.125\")>,\n",
       " <selenium.webdriver.remote.webelement.WebElement (session=\"6ed835879c9542f4877da5e8b6685d0d\", element=\"f.1BD7842E92A9EC393BF26562F31FF93F.d.B4113961878D19FFB9EFABA151DBCC8C.e.224\")>]"
      ]
     },
     "execution_count": 34,
     "metadata": {},
     "output_type": "execute_result"
    }
   ],
   "source": [
    "# To fetch the URL\n",
    "\n",
    "url = driver.find_elements(By.XPATH,'//a[@ class=\"title \"]')\n",
    "url[0:7]"
   ]
  },
  {
   "cell_type": "code",
   "execution_count": 35,
   "id": "db285f37",
   "metadata": {},
   "outputs": [
    {
     "name": "stdout",
     "output_type": "stream",
     "text": [
      "https://www.naukri.com/job-listings-data-scientist-marketing-coursera-kolkata-mumbai-new-delhi-hyderabad-secunderabad-pune-chennai-bangalore-bengaluru-4-to-6-years-240124501248\n",
      "None\n",
      "https://www.naukri.com/job-listings-data-scientist-essenware-private-limted-kolkata-mumbai-new-delhi-hyderabad-pune-chennai-bengaluru-2-to-5-years-210524501649\n",
      "None\n",
      "https://www.naukri.com/job-listings-data-scientist-essenware-private-limted-kolkata-mumbai-new-delhi-hyderabad-pune-chennai-bengaluru-2-to-5-years-210524501409\n",
      "https://www.naukri.com/job-listings-data-science-engineer-futran-tech-solutions-noida-pune-bangalore-rural-chennai-mumbai-all-areas-6-to-9-years-280524010293\n",
      "None\n"
     ]
    }
   ],
   "source": [
    "for i in url[0:7]:\n",
    "    print(i.get_attribute('href'))"
   ]
  },
  {
   "cell_type": "code",
   "execution_count": 16,
   "id": "fcf4393e",
   "metadata": {},
   "outputs": [],
   "source": [
    "# driver.quit()"
   ]
  },
  {
   "cell_type": "code",
   "execution_count": 3,
   "id": "794cc4d5",
   "metadata": {},
   "outputs": [],
   "source": [
    "driver.get('https://www.shine.com/')"
   ]
  },
  {
   "cell_type": "code",
   "execution_count": 4,
   "id": "5c242a0e",
   "metadata": {},
   "outputs": [],
   "source": [
    "designate = driver.find_element(By.CLASS_NAME, \"form-control  \")\n",
    "designate.send_keys('Data Analyst')"
   ]
  },
  {
   "cell_type": "code",
   "execution_count": 6,
   "id": "98f295b0",
   "metadata": {},
   "outputs": [],
   "source": [
    "location = driver.find_element(By.XPATH,'/html/body/div/div[4]/div/div[2]/div[2]/div/form/div/div[1]/ul/li[2]/div/input')\n",
    "location.send_keys('Bangalore')"
   ]
  },
  {
   "cell_type": "code",
   "execution_count": 8,
   "id": "09e219aa",
   "metadata": {},
   "outputs": [],
   "source": [
    "search = driver.find_element(By.XPATH,'/html/body/div/div[4]/div/div[2]/div[2]/div/form/div/div[2]/div/button')\n",
    "search.click()"
   ]
  },
  {
   "cell_type": "code",
   "execution_count": 10,
   "id": "e751d291",
   "metadata": {},
   "outputs": [
    {
     "data": {
      "text/plain": [
       "['Data Entry Operator',\n",
       " 'Data Executive karnataka',\n",
       " 'Data Entry Executive',\n",
       " 'Data Executive karnataka',\n",
       " 'Requirement English Handwriting DATA Entry Operator',\n",
       " 'Data Operator For All India',\n",
       " 'Data Entry Senior Representative apply all over Indian ...',\n",
       " 'Data Operator all over India',\n",
       " 'Computer Operator Data Entry Operator All over Indian P ...',\n",
       " 'Data Entry Clerk, Work From Home, Part Time Work']"
      ]
     },
     "execution_count": 10,
     "metadata": {},
     "output_type": "execute_result"
    }
   ],
   "source": [
    "job_title = []\n",
    "\n",
    "for i in driver.find_elements(By.XPATH,'//strong[@ class=\"jobCard_pReplaceH2__xWmHg\"]/h2/a')[1:11]:\n",
    "    job_title.append(i.text)\n",
    "    \n",
    "job_title    "
   ]
  },
  {
   "cell_type": "code",
   "execution_count": 14,
   "id": "c60ad762",
   "metadata": {},
   "outputs": [
    {
     "data": {
      "text/plain": [
       "['Bangalore',\n",
       " 'Bangalore',\n",
       " 'Bangalore',\n",
       " 'Bangalore',\n",
       " 'Bangalore',\n",
       " 'Bangalore',\n",
       " 'Bangalore',\n",
       " 'Bangalore',\n",
       " 'Bangalore',\n",
       " 'Bangalore']"
      ]
     },
     "execution_count": 14,
     "metadata": {},
     "output_type": "execute_result"
    }
   ],
   "source": [
    "loc = []\n",
    "\n",
    "for i in driver.find_elements(By.XPATH,'//div[@ class=\"jobCard_jobCard_lists_item__YxRkV jobCard_locationIcon__zrWt2\"]')[1:11]:\n",
    "    loc.append(i.text[0:9])\n",
    "    \n",
    "loc    "
   ]
  },
  {
   "cell_type": "code",
   "execution_count": 17,
   "id": "8af316fc",
   "metadata": {},
   "outputs": [
    {
     "data": {
      "text/plain": [
       "['v-tech data outsourcing',\n",
       " 'v-tech data outsourcing',\n",
       " 'v-tech data outsourcing',\n",
       " 'v-tech data outsourcing',\n",
       " 'v-tech data outsourcing',\n",
       " 'v-tech data outsourcing',\n",
       " 'v-tech data outsourcing',\n",
       " 'v-tech data outsourcing',\n",
       " 'v-tech data outsourcing',\n",
       " 'shivam kumar maurya hiring for rm d...']"
      ]
     },
     "execution_count": 17,
     "metadata": {},
     "output_type": "execute_result"
    }
   ],
   "source": [
    "name = []\n",
    "\n",
    "for i in driver.find_elements(By.XPATH,'//div[@ class=\"jobCard_jobCard_cName__mYnow\"]/span')[1:11]:\n",
    "    name.append(i.text)\n",
    "    \n",
    "name    "
   ]
  },
  {
   "cell_type": "code",
   "execution_count": 18,
   "id": "1da2f721",
   "metadata": {},
   "outputs": [],
   "source": [
    "import pandas as pd"
   ]
  },
  {
   "cell_type": "code",
   "execution_count": 20,
   "id": "9299933a",
   "metadata": {},
   "outputs": [
    {
     "data": {
      "text/html": [
       "<div>\n",
       "<style scoped>\n",
       "    .dataframe tbody tr th:only-of-type {\n",
       "        vertical-align: middle;\n",
       "    }\n",
       "\n",
       "    .dataframe tbody tr th {\n",
       "        vertical-align: top;\n",
       "    }\n",
       "\n",
       "    .dataframe thead th {\n",
       "        text-align: right;\n",
       "    }\n",
       "</style>\n",
       "<table border=\"1\" class=\"dataframe\">\n",
       "  <thead>\n",
       "    <tr style=\"text-align: right;\">\n",
       "      <th></th>\n",
       "      <th>Company</th>\n",
       "      <th>Post</th>\n",
       "      <th>Area</th>\n",
       "    </tr>\n",
       "  </thead>\n",
       "  <tbody>\n",
       "    <tr>\n",
       "      <th>0</th>\n",
       "      <td>v-tech data outsourcing</td>\n",
       "      <td>Data Entry Operator</td>\n",
       "      <td>Bangalore</td>\n",
       "    </tr>\n",
       "    <tr>\n",
       "      <th>1</th>\n",
       "      <td>v-tech data outsourcing</td>\n",
       "      <td>Data Executive karnataka</td>\n",
       "      <td>Bangalore</td>\n",
       "    </tr>\n",
       "    <tr>\n",
       "      <th>2</th>\n",
       "      <td>v-tech data outsourcing</td>\n",
       "      <td>Data Entry Executive</td>\n",
       "      <td>Bangalore</td>\n",
       "    </tr>\n",
       "    <tr>\n",
       "      <th>3</th>\n",
       "      <td>v-tech data outsourcing</td>\n",
       "      <td>Data Executive karnataka</td>\n",
       "      <td>Bangalore</td>\n",
       "    </tr>\n",
       "    <tr>\n",
       "      <th>4</th>\n",
       "      <td>v-tech data outsourcing</td>\n",
       "      <td>Requirement English Handwriting DATA Entry Ope...</td>\n",
       "      <td>Bangalore</td>\n",
       "    </tr>\n",
       "    <tr>\n",
       "      <th>5</th>\n",
       "      <td>v-tech data outsourcing</td>\n",
       "      <td>Data Operator For All India</td>\n",
       "      <td>Bangalore</td>\n",
       "    </tr>\n",
       "    <tr>\n",
       "      <th>6</th>\n",
       "      <td>v-tech data outsourcing</td>\n",
       "      <td>Data Entry Senior Representative apply all ove...</td>\n",
       "      <td>Bangalore</td>\n",
       "    </tr>\n",
       "    <tr>\n",
       "      <th>7</th>\n",
       "      <td>v-tech data outsourcing</td>\n",
       "      <td>Data Operator all over India</td>\n",
       "      <td>Bangalore</td>\n",
       "    </tr>\n",
       "    <tr>\n",
       "      <th>8</th>\n",
       "      <td>v-tech data outsourcing</td>\n",
       "      <td>Computer Operator Data Entry Operator All over...</td>\n",
       "      <td>Bangalore</td>\n",
       "    </tr>\n",
       "    <tr>\n",
       "      <th>9</th>\n",
       "      <td>shivam kumar maurya hiring for rm d...</td>\n",
       "      <td>Data Entry Clerk, Work From Home, Part Time Work</td>\n",
       "      <td>Bangalore</td>\n",
       "    </tr>\n",
       "  </tbody>\n",
       "</table>\n",
       "</div>"
      ],
      "text/plain": [
       "                                  Company  \\\n",
       "0                 v-tech data outsourcing   \n",
       "1                 v-tech data outsourcing   \n",
       "2                 v-tech data outsourcing   \n",
       "3                 v-tech data outsourcing   \n",
       "4                 v-tech data outsourcing   \n",
       "5                 v-tech data outsourcing   \n",
       "6                 v-tech data outsourcing   \n",
       "7                 v-tech data outsourcing   \n",
       "8                 v-tech data outsourcing   \n",
       "9  shivam kumar maurya hiring for rm d...   \n",
       "\n",
       "                                                Post       Area  \n",
       "0                                Data Entry Operator  Bangalore  \n",
       "1                           Data Executive karnataka  Bangalore  \n",
       "2                               Data Entry Executive  Bangalore  \n",
       "3                           Data Executive karnataka  Bangalore  \n",
       "4  Requirement English Handwriting DATA Entry Ope...  Bangalore  \n",
       "5                        Data Operator For All India  Bangalore  \n",
       "6  Data Entry Senior Representative apply all ove...  Bangalore  \n",
       "7                       Data Operator all over India  Bangalore  \n",
       "8  Computer Operator Data Entry Operator All over...  Bangalore  \n",
       "9   Data Entry Clerk, Work From Home, Part Time Work  Bangalore  "
      ]
     },
     "execution_count": 20,
     "metadata": {},
     "output_type": "execute_result"
    }
   ],
   "source": [
    "df = pd.DataFrame({'Company':name,'Post':job_title,'Area':loc})\n",
    "\n",
    "df"
   ]
  },
  {
   "cell_type": "code",
   "execution_count": null,
   "id": "8550f7e0",
   "metadata": {},
   "outputs": [],
   "source": []
  }
 ],
 "metadata": {
  "kernelspec": {
   "display_name": "Python 3 (ipykernel)",
   "language": "python",
   "name": "python3"
  },
  "language_info": {
   "codemirror_mode": {
    "name": "ipython",
    "version": 3
   },
   "file_extension": ".py",
   "mimetype": "text/x-python",
   "name": "python",
   "nbconvert_exporter": "python",
   "pygments_lexer": "ipython3",
   "version": "3.9.13"
  }
 },
 "nbformat": 4,
 "nbformat_minor": 5
}
