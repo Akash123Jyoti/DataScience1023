{
 "cells": [
  {
   "cell_type": "markdown",
   "id": "4a03636c",
   "metadata": {},
   "source": [
    "About Dataset\n",
    "\n",
    "This data set contains 13 clinicopathologic features aiming to predict recurrence of well differentiated thyroid cancer. \n",
    "The data set was collected in duration of 15 years and each patient was followed for at least 10 years."
   ]
  },
  {
   "cell_type": "code",
   "execution_count": 1,
   "id": "b431f234",
   "metadata": {},
   "outputs": [],
   "source": [
    "import numpy as np\n",
    "import pandas as pd\n",
    "import matplotlib.pyplot as plt\n",
    "import seaborn as sns\n",
    "from sklearn.feature_selection import SelectKBest, f_classif\n",
    "from sklearn.preprocessing import StandardScaler\n",
    "from sklearn.model_selection import train_test_split\n",
    "from sklearn.ensemble import RandomForestClassifier\n",
    "from sklearn.metrics import accuracy_score,classification_report,confusion_matrix,precision_score, recall_score\n",
    "\n",
    "import warnings\n",
    "warnings.filterwarnings('ignore')"
   ]
  },
  {
   "cell_type": "code",
   "execution_count": 2,
   "id": "e78fadb1",
   "metadata": {},
   "outputs": [
    {
     "data": {
      "text/html": [
       "<div>\n",
       "<style scoped>\n",
       "    .dataframe tbody tr th:only-of-type {\n",
       "        vertical-align: middle;\n",
       "    }\n",
       "\n",
       "    .dataframe tbody tr th {\n",
       "        vertical-align: top;\n",
       "    }\n",
       "\n",
       "    .dataframe thead th {\n",
       "        text-align: right;\n",
       "    }\n",
       "</style>\n",
       "<table border=\"1\" class=\"dataframe\">\n",
       "  <thead>\n",
       "    <tr style=\"text-align: right;\">\n",
       "      <th></th>\n",
       "      <th>Age</th>\n",
       "      <th>Gender</th>\n",
       "      <th>Smoking</th>\n",
       "      <th>Hx Smoking</th>\n",
       "      <th>Hx Radiothreapy</th>\n",
       "      <th>Thyroid Function</th>\n",
       "      <th>Physical Examination</th>\n",
       "      <th>Adenopathy</th>\n",
       "      <th>Pathology</th>\n",
       "      <th>Focality</th>\n",
       "      <th>Risk</th>\n",
       "      <th>T</th>\n",
       "      <th>N</th>\n",
       "      <th>M</th>\n",
       "      <th>Stage</th>\n",
       "      <th>Response</th>\n",
       "      <th>Recurred</th>\n",
       "    </tr>\n",
       "  </thead>\n",
       "  <tbody>\n",
       "    <tr>\n",
       "      <th>0</th>\n",
       "      <td>27</td>\n",
       "      <td>F</td>\n",
       "      <td>No</td>\n",
       "      <td>No</td>\n",
       "      <td>No</td>\n",
       "      <td>Euthyroid</td>\n",
       "      <td>Single nodular goiter-left</td>\n",
       "      <td>No</td>\n",
       "      <td>Micropapillary</td>\n",
       "      <td>Uni-Focal</td>\n",
       "      <td>Low</td>\n",
       "      <td>T1a</td>\n",
       "      <td>N0</td>\n",
       "      <td>M0</td>\n",
       "      <td>I</td>\n",
       "      <td>Indeterminate</td>\n",
       "      <td>No</td>\n",
       "    </tr>\n",
       "    <tr>\n",
       "      <th>1</th>\n",
       "      <td>34</td>\n",
       "      <td>F</td>\n",
       "      <td>No</td>\n",
       "      <td>Yes</td>\n",
       "      <td>No</td>\n",
       "      <td>Euthyroid</td>\n",
       "      <td>Multinodular goiter</td>\n",
       "      <td>No</td>\n",
       "      <td>Micropapillary</td>\n",
       "      <td>Uni-Focal</td>\n",
       "      <td>Low</td>\n",
       "      <td>T1a</td>\n",
       "      <td>N0</td>\n",
       "      <td>M0</td>\n",
       "      <td>I</td>\n",
       "      <td>Excellent</td>\n",
       "      <td>No</td>\n",
       "    </tr>\n",
       "    <tr>\n",
       "      <th>2</th>\n",
       "      <td>30</td>\n",
       "      <td>F</td>\n",
       "      <td>No</td>\n",
       "      <td>No</td>\n",
       "      <td>No</td>\n",
       "      <td>Euthyroid</td>\n",
       "      <td>Single nodular goiter-right</td>\n",
       "      <td>No</td>\n",
       "      <td>Micropapillary</td>\n",
       "      <td>Uni-Focal</td>\n",
       "      <td>Low</td>\n",
       "      <td>T1a</td>\n",
       "      <td>N0</td>\n",
       "      <td>M0</td>\n",
       "      <td>I</td>\n",
       "      <td>Excellent</td>\n",
       "      <td>No</td>\n",
       "    </tr>\n",
       "    <tr>\n",
       "      <th>3</th>\n",
       "      <td>62</td>\n",
       "      <td>F</td>\n",
       "      <td>No</td>\n",
       "      <td>No</td>\n",
       "      <td>No</td>\n",
       "      <td>Euthyroid</td>\n",
       "      <td>Single nodular goiter-right</td>\n",
       "      <td>No</td>\n",
       "      <td>Micropapillary</td>\n",
       "      <td>Uni-Focal</td>\n",
       "      <td>Low</td>\n",
       "      <td>T1a</td>\n",
       "      <td>N0</td>\n",
       "      <td>M0</td>\n",
       "      <td>I</td>\n",
       "      <td>Excellent</td>\n",
       "      <td>No</td>\n",
       "    </tr>\n",
       "    <tr>\n",
       "      <th>4</th>\n",
       "      <td>62</td>\n",
       "      <td>F</td>\n",
       "      <td>No</td>\n",
       "      <td>No</td>\n",
       "      <td>No</td>\n",
       "      <td>Euthyroid</td>\n",
       "      <td>Multinodular goiter</td>\n",
       "      <td>No</td>\n",
       "      <td>Micropapillary</td>\n",
       "      <td>Multi-Focal</td>\n",
       "      <td>Low</td>\n",
       "      <td>T1a</td>\n",
       "      <td>N0</td>\n",
       "      <td>M0</td>\n",
       "      <td>I</td>\n",
       "      <td>Excellent</td>\n",
       "      <td>No</td>\n",
       "    </tr>\n",
       "  </tbody>\n",
       "</table>\n",
       "</div>"
      ],
      "text/plain": [
       "   Age Gender Smoking Hx Smoking Hx Radiothreapy Thyroid Function  \\\n",
       "0   27      F      No         No              No        Euthyroid   \n",
       "1   34      F      No        Yes              No        Euthyroid   \n",
       "2   30      F      No         No              No        Euthyroid   \n",
       "3   62      F      No         No              No        Euthyroid   \n",
       "4   62      F      No         No              No        Euthyroid   \n",
       "\n",
       "          Physical Examination Adenopathy       Pathology     Focality Risk  \\\n",
       "0   Single nodular goiter-left         No  Micropapillary    Uni-Focal  Low   \n",
       "1          Multinodular goiter         No  Micropapillary    Uni-Focal  Low   \n",
       "2  Single nodular goiter-right         No  Micropapillary    Uni-Focal  Low   \n",
       "3  Single nodular goiter-right         No  Micropapillary    Uni-Focal  Low   \n",
       "4          Multinodular goiter         No  Micropapillary  Multi-Focal  Low   \n",
       "\n",
       "     T   N   M Stage       Response Recurred  \n",
       "0  T1a  N0  M0     I  Indeterminate       No  \n",
       "1  T1a  N0  M0     I      Excellent       No  \n",
       "2  T1a  N0  M0     I      Excellent       No  \n",
       "3  T1a  N0  M0     I      Excellent       No  \n",
       "4  T1a  N0  M0     I      Excellent       No  "
      ]
     },
     "execution_count": 2,
     "metadata": {},
     "output_type": "execute_result"
    }
   ],
   "source": [
    "df = pd.read_csv('Thyroid_Diff.csv')\n",
    "\n",
    "df.head()"
   ]
  },
  {
   "cell_type": "code",
   "execution_count": 3,
   "id": "edf0d84b",
   "metadata": {},
   "outputs": [],
   "source": [
    "# Age: The age of the patient at the time of diagnosis or treatment.\n",
    "# Gender: The gender of the patient (male or female).\n",
    "# Smoking: Whether the patient is a smoker or not.\n",
    "# Hx Smoking: Smoking history of the patient (e.g., whether they have ever smoked).\n",
    "# Hx Radiotherapy: History of radiotherapy treatment for any condition.\n",
    "# Thyroid Function: The status of thyroid function, possibly indicating if there are any abnormalities.\n",
    "# Physical Examination: Findings from a physical examination of the patient, which may include palpation of the thyroid gland and surrounding structures.\n",
    "# Adenopathy: Presence or absence of enlarged lymph nodes (adenopathy) in the neck region.\n",
    "# Pathology: Specific types of thyroid cancer as determined by pathology examination of biopsy samples.\n",
    "# Focality: Whether the cancer is unifocal (limited to one location) or multifocal (present in multiple locations).\n",
    "# Risk: The risk category of the cancer based on various factors, such as tumor size, extent of spread, and histological type.\n",
    "# T: Tumor classification based on its size and extent of invasion into nearby structures.\n",
    "# N: Nodal classification indicating the involvement of lymph nodes.\n",
    "# M: Metastasis classification indicating the presence or absence of distant metastases.\n",
    "# Stage: The overall stage of the cancer, typically determined by combining T, N, and M classifications.\n",
    "# Response: Response to treatment, indicating whether the cancer responded positively, negatively, or remained stable after treatment.\n",
    "# Recurred: Indicates whether the cancer has recurred after initial treatment."
   ]
  },
  {
   "cell_type": "markdown",
   "id": "0e1f8e54",
   "metadata": {},
   "source": [
    "# EDA and Data preprocessing"
   ]
  },
  {
   "cell_type": "code",
   "execution_count": 4,
   "id": "06115dc7",
   "metadata": {},
   "outputs": [],
   "source": [
    "# rename the column\n",
    "\n",
    "df.rename(columns={'Hx Smoking': 'Smoking History',\n",
    "                   'Hx Radiothreapy': 'Radiotherapy History',\n",
    "                   'Pathology': 'Types of Thyroid Cancer (Pathology)',\n",
    "                   'T': 'Tumor',\n",
    "                   'N': 'Lymph Nodes',\n",
    "                   'M': 'Cancer Metastasis',\n",
    "                  'Response' : 'Treatment Response'}, inplace=True)"
   ]
  },
  {
   "cell_type": "code",
   "execution_count": 5,
   "id": "ebd19bad",
   "metadata": {},
   "outputs": [
    {
     "data": {
      "text/html": [
       "<div>\n",
       "<style scoped>\n",
       "    .dataframe tbody tr th:only-of-type {\n",
       "        vertical-align: middle;\n",
       "    }\n",
       "\n",
       "    .dataframe tbody tr th {\n",
       "        vertical-align: top;\n",
       "    }\n",
       "\n",
       "    .dataframe thead th {\n",
       "        text-align: right;\n",
       "    }\n",
       "</style>\n",
       "<table border=\"1\" class=\"dataframe\">\n",
       "  <thead>\n",
       "    <tr style=\"text-align: right;\">\n",
       "      <th></th>\n",
       "      <th>Age</th>\n",
       "      <th>Gender</th>\n",
       "      <th>Smoking</th>\n",
       "      <th>Smoking History</th>\n",
       "      <th>Radiotherapy History</th>\n",
       "      <th>Thyroid Function</th>\n",
       "      <th>Physical Examination</th>\n",
       "      <th>Adenopathy</th>\n",
       "      <th>Types of Thyroid Cancer (Pathology)</th>\n",
       "      <th>Focality</th>\n",
       "      <th>Risk</th>\n",
       "      <th>Tumor</th>\n",
       "      <th>Lymph Nodes</th>\n",
       "      <th>Cancer Metastasis</th>\n",
       "      <th>Stage</th>\n",
       "      <th>Treatment Response</th>\n",
       "      <th>Recurred</th>\n",
       "    </tr>\n",
       "  </thead>\n",
       "  <tbody>\n",
       "    <tr>\n",
       "      <th>0</th>\n",
       "      <td>27</td>\n",
       "      <td>F</td>\n",
       "      <td>No</td>\n",
       "      <td>No</td>\n",
       "      <td>No</td>\n",
       "      <td>Euthyroid</td>\n",
       "      <td>Single nodular goiter-left</td>\n",
       "      <td>No</td>\n",
       "      <td>Micropapillary</td>\n",
       "      <td>Uni-Focal</td>\n",
       "      <td>Low</td>\n",
       "      <td>T1a</td>\n",
       "      <td>N0</td>\n",
       "      <td>M0</td>\n",
       "      <td>I</td>\n",
       "      <td>Indeterminate</td>\n",
       "      <td>No</td>\n",
       "    </tr>\n",
       "    <tr>\n",
       "      <th>1</th>\n",
       "      <td>34</td>\n",
       "      <td>F</td>\n",
       "      <td>No</td>\n",
       "      <td>Yes</td>\n",
       "      <td>No</td>\n",
       "      <td>Euthyroid</td>\n",
       "      <td>Multinodular goiter</td>\n",
       "      <td>No</td>\n",
       "      <td>Micropapillary</td>\n",
       "      <td>Uni-Focal</td>\n",
       "      <td>Low</td>\n",
       "      <td>T1a</td>\n",
       "      <td>N0</td>\n",
       "      <td>M0</td>\n",
       "      <td>I</td>\n",
       "      <td>Excellent</td>\n",
       "      <td>No</td>\n",
       "    </tr>\n",
       "    <tr>\n",
       "      <th>2</th>\n",
       "      <td>30</td>\n",
       "      <td>F</td>\n",
       "      <td>No</td>\n",
       "      <td>No</td>\n",
       "      <td>No</td>\n",
       "      <td>Euthyroid</td>\n",
       "      <td>Single nodular goiter-right</td>\n",
       "      <td>No</td>\n",
       "      <td>Micropapillary</td>\n",
       "      <td>Uni-Focal</td>\n",
       "      <td>Low</td>\n",
       "      <td>T1a</td>\n",
       "      <td>N0</td>\n",
       "      <td>M0</td>\n",
       "      <td>I</td>\n",
       "      <td>Excellent</td>\n",
       "      <td>No</td>\n",
       "    </tr>\n",
       "    <tr>\n",
       "      <th>3</th>\n",
       "      <td>62</td>\n",
       "      <td>F</td>\n",
       "      <td>No</td>\n",
       "      <td>No</td>\n",
       "      <td>No</td>\n",
       "      <td>Euthyroid</td>\n",
       "      <td>Single nodular goiter-right</td>\n",
       "      <td>No</td>\n",
       "      <td>Micropapillary</td>\n",
       "      <td>Uni-Focal</td>\n",
       "      <td>Low</td>\n",
       "      <td>T1a</td>\n",
       "      <td>N0</td>\n",
       "      <td>M0</td>\n",
       "      <td>I</td>\n",
       "      <td>Excellent</td>\n",
       "      <td>No</td>\n",
       "    </tr>\n",
       "    <tr>\n",
       "      <th>4</th>\n",
       "      <td>62</td>\n",
       "      <td>F</td>\n",
       "      <td>No</td>\n",
       "      <td>No</td>\n",
       "      <td>No</td>\n",
       "      <td>Euthyroid</td>\n",
       "      <td>Multinodular goiter</td>\n",
       "      <td>No</td>\n",
       "      <td>Micropapillary</td>\n",
       "      <td>Multi-Focal</td>\n",
       "      <td>Low</td>\n",
       "      <td>T1a</td>\n",
       "      <td>N0</td>\n",
       "      <td>M0</td>\n",
       "      <td>I</td>\n",
       "      <td>Excellent</td>\n",
       "      <td>No</td>\n",
       "    </tr>\n",
       "  </tbody>\n",
       "</table>\n",
       "</div>"
      ],
      "text/plain": [
       "   Age Gender Smoking Smoking History Radiotherapy History Thyroid Function  \\\n",
       "0   27      F      No              No                   No        Euthyroid   \n",
       "1   34      F      No             Yes                   No        Euthyroid   \n",
       "2   30      F      No              No                   No        Euthyroid   \n",
       "3   62      F      No              No                   No        Euthyroid   \n",
       "4   62      F      No              No                   No        Euthyroid   \n",
       "\n",
       "          Physical Examination Adenopathy Types of Thyroid Cancer (Pathology)  \\\n",
       "0   Single nodular goiter-left         No                      Micropapillary   \n",
       "1          Multinodular goiter         No                      Micropapillary   \n",
       "2  Single nodular goiter-right         No                      Micropapillary   \n",
       "3  Single nodular goiter-right         No                      Micropapillary   \n",
       "4          Multinodular goiter         No                      Micropapillary   \n",
       "\n",
       "      Focality Risk Tumor Lymph Nodes Cancer Metastasis Stage  \\\n",
       "0    Uni-Focal  Low   T1a          N0                M0     I   \n",
       "1    Uni-Focal  Low   T1a          N0                M0     I   \n",
       "2    Uni-Focal  Low   T1a          N0                M0     I   \n",
       "3    Uni-Focal  Low   T1a          N0                M0     I   \n",
       "4  Multi-Focal  Low   T1a          N0                M0     I   \n",
       "\n",
       "  Treatment Response Recurred  \n",
       "0      Indeterminate       No  \n",
       "1          Excellent       No  \n",
       "2          Excellent       No  \n",
       "3          Excellent       No  \n",
       "4          Excellent       No  "
      ]
     },
     "execution_count": 5,
     "metadata": {},
     "output_type": "execute_result"
    }
   ],
   "source": [
    "df.head()"
   ]
  },
  {
   "cell_type": "code",
   "execution_count": 6,
   "id": "4d60a8f8",
   "metadata": {},
   "outputs": [
    {
     "data": {
      "text/html": [
       "<div>\n",
       "<style scoped>\n",
       "    .dataframe tbody tr th:only-of-type {\n",
       "        vertical-align: middle;\n",
       "    }\n",
       "\n",
       "    .dataframe tbody tr th {\n",
       "        vertical-align: top;\n",
       "    }\n",
       "\n",
       "    .dataframe thead th {\n",
       "        text-align: right;\n",
       "    }\n",
       "</style>\n",
       "<table border=\"1\" class=\"dataframe\">\n",
       "  <thead>\n",
       "    <tr style=\"text-align: right;\">\n",
       "      <th></th>\n",
       "      <th>Age</th>\n",
       "      <th>Gender</th>\n",
       "      <th>Smoking</th>\n",
       "      <th>Smoking History</th>\n",
       "      <th>Radiotherapy History</th>\n",
       "      <th>Thyroid Function</th>\n",
       "      <th>Physical Examination</th>\n",
       "      <th>Adenopathy</th>\n",
       "      <th>Types of Thyroid Cancer (Pathology)</th>\n",
       "      <th>Focality</th>\n",
       "      <th>Risk</th>\n",
       "      <th>Tumor</th>\n",
       "      <th>Lymph Nodes</th>\n",
       "      <th>Cancer Metastasis</th>\n",
       "      <th>Stage</th>\n",
       "      <th>Treatment Response</th>\n",
       "      <th>Recurred</th>\n",
       "    </tr>\n",
       "  </thead>\n",
       "  <tbody>\n",
       "    <tr>\n",
       "      <th>326</th>\n",
       "      <td>35</td>\n",
       "      <td>0</td>\n",
       "      <td>0</td>\n",
       "      <td>No</td>\n",
       "      <td>No</td>\n",
       "      <td>Euthyroid</td>\n",
       "      <td>Single nodular goiter-right</td>\n",
       "      <td>Right</td>\n",
       "      <td>Papillary</td>\n",
       "      <td>Multi-Focal</td>\n",
       "      <td>Intermediate</td>\n",
       "      <td>T3a</td>\n",
       "      <td>N1a</td>\n",
       "      <td>0</td>\n",
       "      <td>I</td>\n",
       "      <td>Biochemical Incomplete</td>\n",
       "      <td>1</td>\n",
       "    </tr>\n",
       "    <tr>\n",
       "      <th>184</th>\n",
       "      <td>67</td>\n",
       "      <td>0</td>\n",
       "      <td>0</td>\n",
       "      <td>No</td>\n",
       "      <td>No</td>\n",
       "      <td>Euthyroid</td>\n",
       "      <td>Single nodular goiter-left</td>\n",
       "      <td>No</td>\n",
       "      <td>Papillary</td>\n",
       "      <td>Uni-Focal</td>\n",
       "      <td>Low</td>\n",
       "      <td>T2</td>\n",
       "      <td>N0</td>\n",
       "      <td>0</td>\n",
       "      <td>I</td>\n",
       "      <td>Excellent</td>\n",
       "      <td>0</td>\n",
       "    </tr>\n",
       "  </tbody>\n",
       "</table>\n",
       "</div>"
      ],
      "text/plain": [
       "     Age  Gender  Smoking Smoking History Radiotherapy History  \\\n",
       "326   35       0        0              No                   No   \n",
       "184   67       0        0              No                   No   \n",
       "\n",
       "    Thyroid Function         Physical Examination Adenopathy  \\\n",
       "326        Euthyroid  Single nodular goiter-right      Right   \n",
       "184        Euthyroid   Single nodular goiter-left         No   \n",
       "\n",
       "    Types of Thyroid Cancer (Pathology)     Focality          Risk Tumor  \\\n",
       "326                           Papillary  Multi-Focal  Intermediate   T3a   \n",
       "184                           Papillary    Uni-Focal           Low    T2   \n",
       "\n",
       "    Lymph Nodes  Cancer Metastasis Stage      Treatment Response  Recurred  \n",
       "326         N1a                  0     I  Biochemical Incomplete         1  \n",
       "184          N0                  0     I               Excellent         0  "
      ]
     },
     "execution_count": 6,
     "metadata": {},
     "output_type": "execute_result"
    }
   ],
   "source": [
    "df['Recurred'].replace({'No': 0,'Yes': 1}, inplace=True)\n",
    "\n",
    "df['Gender'].replace({'M':1,'F':0}, inplace=True)\n",
    "\n",
    "df['Smoking'].replace({'Yes':1,'No':0}, inplace=True)\n",
    "\n",
    "df['Cancer Metastasis'].replace({'M0':0,'M1':1}, inplace=True)\n",
    "\n",
    "df.sample(2)"
   ]
  },
  {
   "cell_type": "code",
   "execution_count": 7,
   "id": "4bab74f4",
   "metadata": {},
   "outputs": [
    {
     "data": {
      "text/plain": [
       "Age                                    65\n",
       "Gender                                  2\n",
       "Smoking                                 2\n",
       "Smoking History                         2\n",
       "Radiotherapy History                    2\n",
       "Thyroid Function                        5\n",
       "Physical Examination                    5\n",
       "Adenopathy                              6\n",
       "Types of Thyroid Cancer (Pathology)     4\n",
       "Focality                                2\n",
       "Risk                                    3\n",
       "Tumor                                   7\n",
       "Lymph Nodes                             3\n",
       "Cancer Metastasis                       2\n",
       "Stage                                   5\n",
       "Treatment Response                      4\n",
       "Recurred                                2\n",
       "dtype: int64"
      ]
     },
     "execution_count": 7,
     "metadata": {},
     "output_type": "execute_result"
    }
   ],
   "source": [
    "df.nunique()"
   ]
  },
  {
   "cell_type": "code",
   "execution_count": 8,
   "id": "c2d49e83",
   "metadata": {},
   "outputs": [
    {
     "data": {
      "text/plain": [
       "19"
      ]
     },
     "execution_count": 8,
     "metadata": {},
     "output_type": "execute_result"
    }
   ],
   "source": [
    "df.duplicated().sum()"
   ]
  },
  {
   "cell_type": "code",
   "execution_count": 9,
   "id": "d40313ae",
   "metadata": {},
   "outputs": [
    {
     "data": {
      "text/html": [
       "<div>\n",
       "<style scoped>\n",
       "    .dataframe tbody tr th:only-of-type {\n",
       "        vertical-align: middle;\n",
       "    }\n",
       "\n",
       "    .dataframe tbody tr th {\n",
       "        vertical-align: top;\n",
       "    }\n",
       "\n",
       "    .dataframe thead th {\n",
       "        text-align: right;\n",
       "    }\n",
       "</style>\n",
       "<table border=\"1\" class=\"dataframe\">\n",
       "  <thead>\n",
       "    <tr style=\"text-align: right;\">\n",
       "      <th></th>\n",
       "      <th>Age</th>\n",
       "      <th>Gender</th>\n",
       "      <th>Smoking</th>\n",
       "      <th>Smoking History</th>\n",
       "      <th>Radiotherapy History</th>\n",
       "      <th>Thyroid Function</th>\n",
       "      <th>Physical Examination</th>\n",
       "      <th>Adenopathy</th>\n",
       "      <th>Types of Thyroid Cancer (Pathology)</th>\n",
       "      <th>Focality</th>\n",
       "      <th>Risk</th>\n",
       "      <th>Tumor</th>\n",
       "      <th>Lymph Nodes</th>\n",
       "      <th>Cancer Metastasis</th>\n",
       "      <th>Stage</th>\n",
       "      <th>Treatment Response</th>\n",
       "      <th>Recurred</th>\n",
       "    </tr>\n",
       "  </thead>\n",
       "  <tbody>\n",
       "    <tr>\n",
       "      <th>0</th>\n",
       "      <td>27</td>\n",
       "      <td>0</td>\n",
       "      <td>0</td>\n",
       "      <td>No</td>\n",
       "      <td>No</td>\n",
       "      <td>Euthyroid</td>\n",
       "      <td>Single nodular goiter-left</td>\n",
       "      <td>No</td>\n",
       "      <td>Micropapillary</td>\n",
       "      <td>Uni-Focal</td>\n",
       "      <td>Low</td>\n",
       "      <td>T1a</td>\n",
       "      <td>N0</td>\n",
       "      <td>0</td>\n",
       "      <td>I</td>\n",
       "      <td>Indeterminate</td>\n",
       "      <td>0</td>\n",
       "    </tr>\n",
       "    <tr>\n",
       "      <th>1</th>\n",
       "      <td>34</td>\n",
       "      <td>0</td>\n",
       "      <td>0</td>\n",
       "      <td>Yes</td>\n",
       "      <td>No</td>\n",
       "      <td>Euthyroid</td>\n",
       "      <td>Multinodular goiter</td>\n",
       "      <td>No</td>\n",
       "      <td>Micropapillary</td>\n",
       "      <td>Uni-Focal</td>\n",
       "      <td>Low</td>\n",
       "      <td>T1a</td>\n",
       "      <td>N0</td>\n",
       "      <td>0</td>\n",
       "      <td>I</td>\n",
       "      <td>Excellent</td>\n",
       "      <td>0</td>\n",
       "    </tr>\n",
       "    <tr>\n",
       "      <th>2</th>\n",
       "      <td>30</td>\n",
       "      <td>0</td>\n",
       "      <td>0</td>\n",
       "      <td>No</td>\n",
       "      <td>No</td>\n",
       "      <td>Euthyroid</td>\n",
       "      <td>Single nodular goiter-right</td>\n",
       "      <td>No</td>\n",
       "      <td>Micropapillary</td>\n",
       "      <td>Uni-Focal</td>\n",
       "      <td>Low</td>\n",
       "      <td>T1a</td>\n",
       "      <td>N0</td>\n",
       "      <td>0</td>\n",
       "      <td>I</td>\n",
       "      <td>Excellent</td>\n",
       "      <td>0</td>\n",
       "    </tr>\n",
       "    <tr>\n",
       "      <th>3</th>\n",
       "      <td>62</td>\n",
       "      <td>0</td>\n",
       "      <td>0</td>\n",
       "      <td>No</td>\n",
       "      <td>No</td>\n",
       "      <td>Euthyroid</td>\n",
       "      <td>Single nodular goiter-right</td>\n",
       "      <td>No</td>\n",
       "      <td>Micropapillary</td>\n",
       "      <td>Uni-Focal</td>\n",
       "      <td>Low</td>\n",
       "      <td>T1a</td>\n",
       "      <td>N0</td>\n",
       "      <td>0</td>\n",
       "      <td>I</td>\n",
       "      <td>Excellent</td>\n",
       "      <td>0</td>\n",
       "    </tr>\n",
       "    <tr>\n",
       "      <th>4</th>\n",
       "      <td>62</td>\n",
       "      <td>0</td>\n",
       "      <td>0</td>\n",
       "      <td>No</td>\n",
       "      <td>No</td>\n",
       "      <td>Euthyroid</td>\n",
       "      <td>Multinodular goiter</td>\n",
       "      <td>No</td>\n",
       "      <td>Micropapillary</td>\n",
       "      <td>Multi-Focal</td>\n",
       "      <td>Low</td>\n",
       "      <td>T1a</td>\n",
       "      <td>N0</td>\n",
       "      <td>0</td>\n",
       "      <td>I</td>\n",
       "      <td>Excellent</td>\n",
       "      <td>0</td>\n",
       "    </tr>\n",
       "  </tbody>\n",
       "</table>\n",
       "</div>"
      ],
      "text/plain": [
       "   Age  Gender  Smoking Smoking History Radiotherapy History Thyroid Function  \\\n",
       "0   27       0        0              No                   No        Euthyroid   \n",
       "1   34       0        0             Yes                   No        Euthyroid   \n",
       "2   30       0        0              No                   No        Euthyroid   \n",
       "3   62       0        0              No                   No        Euthyroid   \n",
       "4   62       0        0              No                   No        Euthyroid   \n",
       "\n",
       "          Physical Examination Adenopathy Types of Thyroid Cancer (Pathology)  \\\n",
       "0   Single nodular goiter-left         No                      Micropapillary   \n",
       "1          Multinodular goiter         No                      Micropapillary   \n",
       "2  Single nodular goiter-right         No                      Micropapillary   \n",
       "3  Single nodular goiter-right         No                      Micropapillary   \n",
       "4          Multinodular goiter         No                      Micropapillary   \n",
       "\n",
       "      Focality Risk Tumor Lymph Nodes  Cancer Metastasis Stage  \\\n",
       "0    Uni-Focal  Low   T1a          N0                  0     I   \n",
       "1    Uni-Focal  Low   T1a          N0                  0     I   \n",
       "2    Uni-Focal  Low   T1a          N0                  0     I   \n",
       "3    Uni-Focal  Low   T1a          N0                  0     I   \n",
       "4  Multi-Focal  Low   T1a          N0                  0     I   \n",
       "\n",
       "  Treatment Response  Recurred  \n",
       "0      Indeterminate         0  \n",
       "1          Excellent         0  \n",
       "2          Excellent         0  \n",
       "3          Excellent         0  \n",
       "4          Excellent         0  "
      ]
     },
     "execution_count": 9,
     "metadata": {},
     "output_type": "execute_result"
    }
   ],
   "source": [
    "df.drop_duplicates()\n",
    "\n",
    "df.head()"
   ]
  },
  {
   "cell_type": "code",
   "execution_count": 10,
   "id": "da6aff79",
   "metadata": {},
   "outputs": [
    {
     "data": {
      "text/plain": [
       "(383, 17)"
      ]
     },
     "execution_count": 10,
     "metadata": {},
     "output_type": "execute_result"
    }
   ],
   "source": [
    "df.shape"
   ]
  },
  {
   "cell_type": "code",
   "execution_count": 11,
   "id": "d604c64a",
   "metadata": {},
   "outputs": [
    {
     "data": {
      "text/plain": [
       "Low             249\n",
       "Intermediate    102\n",
       "High             32\n",
       "Name: Risk, dtype: int64"
      ]
     },
     "execution_count": 11,
     "metadata": {},
     "output_type": "execute_result"
    }
   ],
   "source": [
    "df['Risk'].value_counts()"
   ]
  },
  {
   "cell_type": "code",
   "execution_count": 12,
   "id": "738d72c9",
   "metadata": {},
   "outputs": [
    {
     "data": {
      "text/plain": [
       "0    275\n",
       "1    108\n",
       "Name: Recurred, dtype: int64"
      ]
     },
     "execution_count": 12,
     "metadata": {},
     "output_type": "execute_result"
    }
   ],
   "source": [
    "df['Recurred'].value_counts()"
   ]
  },
  {
   "cell_type": "code",
   "execution_count": 13,
   "id": "6e3a687c",
   "metadata": {},
   "outputs": [
    {
     "data": {
      "text/html": [
       "<div>\n",
       "<style scoped>\n",
       "    .dataframe tbody tr th:only-of-type {\n",
       "        vertical-align: middle;\n",
       "    }\n",
       "\n",
       "    .dataframe tbody tr th {\n",
       "        vertical-align: top;\n",
       "    }\n",
       "\n",
       "    .dataframe thead th {\n",
       "        text-align: right;\n",
       "    }\n",
       "</style>\n",
       "<table border=\"1\" class=\"dataframe\">\n",
       "  <thead>\n",
       "    <tr style=\"text-align: right;\">\n",
       "      <th></th>\n",
       "      <th>Age</th>\n",
       "      <th>Gender</th>\n",
       "      <th>Smoking</th>\n",
       "      <th>Risk</th>\n",
       "      <th>Cancer Metastasis</th>\n",
       "      <th>Recurred</th>\n",
       "      <th>Stage_en</th>\n",
       "      <th>Smoking History_en</th>\n",
       "      <th>Radiotherapy History_en</th>\n",
       "      <th>Thyroid Function_en</th>\n",
       "      <th>Physical Examination_en</th>\n",
       "      <th>Adenopathy_en</th>\n",
       "      <th>Types of Thyroid Cancer (Pathology)_en</th>\n",
       "      <th>Focality_en</th>\n",
       "      <th>Tumor_en</th>\n",
       "      <th>Lymph Nodes_en</th>\n",
       "      <th>Treatment Response_en</th>\n",
       "    </tr>\n",
       "  </thead>\n",
       "  <tbody>\n",
       "    <tr>\n",
       "      <th>273</th>\n",
       "      <td>45</td>\n",
       "      <td>0</td>\n",
       "      <td>0</td>\n",
       "      <td>Low</td>\n",
       "      <td>0</td>\n",
       "      <td>0</td>\n",
       "      <td>0</td>\n",
       "      <td>0</td>\n",
       "      <td>0</td>\n",
       "      <td>1</td>\n",
       "      <td>3</td>\n",
       "      <td>3</td>\n",
       "      <td>3</td>\n",
       "      <td>0</td>\n",
       "      <td>3</td>\n",
       "      <td>0</td>\n",
       "      <td>2</td>\n",
       "    </tr>\n",
       "    <tr>\n",
       "      <th>116</th>\n",
       "      <td>33</td>\n",
       "      <td>0</td>\n",
       "      <td>0</td>\n",
       "      <td>Low</td>\n",
       "      <td>0</td>\n",
       "      <td>0</td>\n",
       "      <td>0</td>\n",
       "      <td>0</td>\n",
       "      <td>0</td>\n",
       "      <td>2</td>\n",
       "      <td>3</td>\n",
       "      <td>3</td>\n",
       "      <td>3</td>\n",
       "      <td>1</td>\n",
       "      <td>2</td>\n",
       "      <td>0</td>\n",
       "      <td>1</td>\n",
       "    </tr>\n",
       "    <tr>\n",
       "      <th>99</th>\n",
       "      <td>28</td>\n",
       "      <td>0</td>\n",
       "      <td>0</td>\n",
       "      <td>Low</td>\n",
       "      <td>0</td>\n",
       "      <td>0</td>\n",
       "      <td>0</td>\n",
       "      <td>0</td>\n",
       "      <td>0</td>\n",
       "      <td>2</td>\n",
       "      <td>4</td>\n",
       "      <td>3</td>\n",
       "      <td>0</td>\n",
       "      <td>1</td>\n",
       "      <td>2</td>\n",
       "      <td>0</td>\n",
       "      <td>1</td>\n",
       "    </tr>\n",
       "    <tr>\n",
       "      <th>61</th>\n",
       "      <td>35</td>\n",
       "      <td>0</td>\n",
       "      <td>0</td>\n",
       "      <td>Low</td>\n",
       "      <td>0</td>\n",
       "      <td>0</td>\n",
       "      <td>0</td>\n",
       "      <td>0</td>\n",
       "      <td>0</td>\n",
       "      <td>2</td>\n",
       "      <td>4</td>\n",
       "      <td>3</td>\n",
       "      <td>3</td>\n",
       "      <td>1</td>\n",
       "      <td>1</td>\n",
       "      <td>0</td>\n",
       "      <td>1</td>\n",
       "    </tr>\n",
       "    <tr>\n",
       "      <th>161</th>\n",
       "      <td>22</td>\n",
       "      <td>0</td>\n",
       "      <td>0</td>\n",
       "      <td>Low</td>\n",
       "      <td>0</td>\n",
       "      <td>0</td>\n",
       "      <td>0</td>\n",
       "      <td>0</td>\n",
       "      <td>0</td>\n",
       "      <td>2</td>\n",
       "      <td>4</td>\n",
       "      <td>3</td>\n",
       "      <td>3</td>\n",
       "      <td>1</td>\n",
       "      <td>2</td>\n",
       "      <td>0</td>\n",
       "      <td>1</td>\n",
       "    </tr>\n",
       "  </tbody>\n",
       "</table>\n",
       "</div>"
      ],
      "text/plain": [
       "     Age  Gender  Smoking Risk  Cancer Metastasis  Recurred  Stage_en  \\\n",
       "273   45       0        0  Low                  0         0         0   \n",
       "116   33       0        0  Low                  0         0         0   \n",
       "99    28       0        0  Low                  0         0         0   \n",
       "61    35       0        0  Low                  0         0         0   \n",
       "161   22       0        0  Low                  0         0         0   \n",
       "\n",
       "     Smoking History_en  Radiotherapy History_en  Thyroid Function_en  \\\n",
       "273                   0                        0                    1   \n",
       "116                   0                        0                    2   \n",
       "99                    0                        0                    2   \n",
       "61                    0                        0                    2   \n",
       "161                   0                        0                    2   \n",
       "\n",
       "     Physical Examination_en  Adenopathy_en  \\\n",
       "273                        3              3   \n",
       "116                        3              3   \n",
       "99                         4              3   \n",
       "61                         4              3   \n",
       "161                        4              3   \n",
       "\n",
       "     Types of Thyroid Cancer (Pathology)_en  Focality_en  Tumor_en  \\\n",
       "273                                       3            0         3   \n",
       "116                                       3            1         2   \n",
       "99                                        0            1         2   \n",
       "61                                        3            1         1   \n",
       "161                                       3            1         2   \n",
       "\n",
       "     Lymph Nodes_en  Treatment Response_en  \n",
       "273               0                      2  \n",
       "116               0                      1  \n",
       "99                0                      1  \n",
       "61                0                      1  \n",
       "161               0                      1  "
      ]
     },
     "execution_count": 13,
     "metadata": {},
     "output_type": "execute_result"
    }
   ],
   "source": [
    "from sklearn.preprocessing import LabelEncoder\n",
    "\n",
    "# Specify categorical columns\n",
    "categorical_columns = ['Stage','Smoking History','Radiotherapy History','Thyroid Function','Physical Examination','Adenopathy','Types of Thyroid Cancer (Pathology)','Focality','Tumor','Lymph Nodes','Treatment Response']\n",
    "\n",
    "label_encoder = LabelEncoder()\n",
    "for col in categorical_columns:\n",
    "    df[col + '_en'] = label_encoder.fit_transform(df[col])\n",
    "\n",
    "# Drop the original categorical columns\n",
    "df.drop(categorical_columns, axis=1, inplace=True)\n",
    "\n",
    "df.sample(5)"
   ]
  },
  {
   "cell_type": "code",
   "execution_count": 14,
   "id": "1da1664e",
   "metadata": {},
   "outputs": [],
   "source": [
    "from sklearn.preprocessing import OrdinalEncoder\n",
    "\n",
    "# Define the order of categories for the 'Risk' column\n",
    "categories = [['Low', 'Intermediate', 'High']] \n",
    "\n",
    "# Initialize OrdinalEncoder with specified categories\n",
    "oe = OrdinalEncoder(categories=categories)\n",
    "\n",
    "# Fit and transform the ordinal encoding\n",
    "df['Risk'] = oe.fit_transform(df[['Risk']])"
   ]
  },
  {
   "cell_type": "code",
   "execution_count": 15,
   "id": "ef4e6ea7",
   "metadata": {},
   "outputs": [
    {
     "name": "stdout",
     "output_type": "stream",
     "text": [
      "<class 'pandas.core.frame.DataFrame'>\n",
      "RangeIndex: 383 entries, 0 to 382\n",
      "Data columns (total 17 columns):\n",
      " #   Column                                  Non-Null Count  Dtype  \n",
      "---  ------                                  --------------  -----  \n",
      " 0   Age                                     383 non-null    int64  \n",
      " 1   Gender                                  383 non-null    int64  \n",
      " 2   Smoking                                 383 non-null    int64  \n",
      " 3   Risk                                    383 non-null    float64\n",
      " 4   Cancer Metastasis                       383 non-null    int64  \n",
      " 5   Recurred                                383 non-null    int64  \n",
      " 6   Stage_en                                383 non-null    int32  \n",
      " 7   Smoking History_en                      383 non-null    int32  \n",
      " 8   Radiotherapy History_en                 383 non-null    int32  \n",
      " 9   Thyroid Function_en                     383 non-null    int32  \n",
      " 10  Physical Examination_en                 383 non-null    int32  \n",
      " 11  Adenopathy_en                           383 non-null    int32  \n",
      " 12  Types of Thyroid Cancer (Pathology)_en  383 non-null    int32  \n",
      " 13  Focality_en                             383 non-null    int32  \n",
      " 14  Tumor_en                                383 non-null    int32  \n",
      " 15  Lymph Nodes_en                          383 non-null    int32  \n",
      " 16  Treatment Response_en                   383 non-null    int32  \n",
      "dtypes: float64(1), int32(11), int64(5)\n",
      "memory usage: 34.5 KB\n"
     ]
    }
   ],
   "source": [
    "df.info()"
   ]
  },
  {
   "cell_type": "markdown",
   "id": "9380c4f2",
   "metadata": {},
   "source": [
    "# Divide feature variable and target variable in X and y"
   ]
  },
  {
   "cell_type": "code",
   "execution_count": 16,
   "id": "f1cc1184",
   "metadata": {},
   "outputs": [],
   "source": [
    "X = df.drop('Recurred', axis=1)\n",
    "y = df['Recurred']"
   ]
  },
  {
   "cell_type": "markdown",
   "id": "3a90172c",
   "metadata": {},
   "source": [
    "# Select best feature using SelectKbest method based on ANOVA F-test"
   ]
  },
  {
   "cell_type": "code",
   "execution_count": 17,
   "id": "66373e92",
   "metadata": {},
   "outputs": [
    {
     "name": "stdout",
     "output_type": "stream",
     "text": [
      "             Feature_name       Score\n",
      "3                    Risk  443.390121\n",
      "15  Treatment Response_en  385.013106\n",
      "14         Lymph Nodes_en  253.823287\n",
      "13               Tumor_en  170.661941\n",
      "5                Stage_en   96.278731\n",
      "12            Focality_en   65.807733\n",
      "4       Cancer Metastasis   54.712794\n",
      "2                 Smoking   47.595845\n",
      "1                  Gender   45.990326\n",
      "0                     Age   27.372236\n"
     ]
    }
   ],
   "source": [
    "# Select the top 10 features based on ANOVA F-test\n",
    "\n",
    "best_features = SelectKBest(score_func=f_classif, k=10)\n",
    "\n",
    "fit = best_features.fit(X,y)\n",
    "\n",
    "dataset_scores = pd.DataFrame(fit.scores_)\n",
    "\n",
    "dataset_columns = pd.DataFrame(X.columns)\n",
    "\n",
    "#concatenate datafreames\n",
    "features_scores = pd.concat([dataset_columns,dataset_scores],axis=1)\n",
    "\n",
    "features_scores.columns = ['Feature_name','Score']\n",
    "\n",
    "print(features_scores.nlargest(10,'Score'))"
   ]
  },
  {
   "cell_type": "code",
   "execution_count": 18,
   "id": "78be1703",
   "metadata": {},
   "outputs": [
    {
     "data": {
      "text/html": [
       "<div>\n",
       "<style scoped>\n",
       "    .dataframe tbody tr th:only-of-type {\n",
       "        vertical-align: middle;\n",
       "    }\n",
       "\n",
       "    .dataframe tbody tr th {\n",
       "        vertical-align: top;\n",
       "    }\n",
       "\n",
       "    .dataframe thead th {\n",
       "        text-align: right;\n",
       "    }\n",
       "</style>\n",
       "<table border=\"1\" class=\"dataframe\">\n",
       "  <thead>\n",
       "    <tr style=\"text-align: right;\">\n",
       "      <th></th>\n",
       "      <th>Risk</th>\n",
       "      <th>Treatment Response_en</th>\n",
       "      <th>Lymph Nodes_en</th>\n",
       "      <th>Tumor_en</th>\n",
       "      <th>Stage_en</th>\n",
       "      <th>Focality_en</th>\n",
       "      <th>Cancer Metastasis</th>\n",
       "      <th>Smoking</th>\n",
       "      <th>Gender</th>\n",
       "      <th>Age</th>\n",
       "    </tr>\n",
       "  </thead>\n",
       "  <tbody>\n",
       "    <tr>\n",
       "      <th>0</th>\n",
       "      <td>0.0</td>\n",
       "      <td>2</td>\n",
       "      <td>0</td>\n",
       "      <td>0</td>\n",
       "      <td>0</td>\n",
       "      <td>1</td>\n",
       "      <td>0</td>\n",
       "      <td>0</td>\n",
       "      <td>0</td>\n",
       "      <td>27</td>\n",
       "    </tr>\n",
       "    <tr>\n",
       "      <th>1</th>\n",
       "      <td>0.0</td>\n",
       "      <td>1</td>\n",
       "      <td>0</td>\n",
       "      <td>0</td>\n",
       "      <td>0</td>\n",
       "      <td>1</td>\n",
       "      <td>0</td>\n",
       "      <td>0</td>\n",
       "      <td>0</td>\n",
       "      <td>34</td>\n",
       "    </tr>\n",
       "    <tr>\n",
       "      <th>2</th>\n",
       "      <td>0.0</td>\n",
       "      <td>1</td>\n",
       "      <td>0</td>\n",
       "      <td>0</td>\n",
       "      <td>0</td>\n",
       "      <td>1</td>\n",
       "      <td>0</td>\n",
       "      <td>0</td>\n",
       "      <td>0</td>\n",
       "      <td>30</td>\n",
       "    </tr>\n",
       "    <tr>\n",
       "      <th>3</th>\n",
       "      <td>0.0</td>\n",
       "      <td>1</td>\n",
       "      <td>0</td>\n",
       "      <td>0</td>\n",
       "      <td>0</td>\n",
       "      <td>1</td>\n",
       "      <td>0</td>\n",
       "      <td>0</td>\n",
       "      <td>0</td>\n",
       "      <td>62</td>\n",
       "    </tr>\n",
       "    <tr>\n",
       "      <th>4</th>\n",
       "      <td>0.0</td>\n",
       "      <td>1</td>\n",
       "      <td>0</td>\n",
       "      <td>0</td>\n",
       "      <td>0</td>\n",
       "      <td>0</td>\n",
       "      <td>0</td>\n",
       "      <td>0</td>\n",
       "      <td>0</td>\n",
       "      <td>62</td>\n",
       "    </tr>\n",
       "  </tbody>\n",
       "</table>\n",
       "</div>"
      ],
      "text/plain": [
       "   Risk  Treatment Response_en  Lymph Nodes_en  Tumor_en  Stage_en  \\\n",
       "0   0.0                      2               0         0         0   \n",
       "1   0.0                      1               0         0         0   \n",
       "2   0.0                      1               0         0         0   \n",
       "3   0.0                      1               0         0         0   \n",
       "4   0.0                      1               0         0         0   \n",
       "\n",
       "   Focality_en  Cancer Metastasis  Smoking  Gender  Age  \n",
       "0            1                  0        0       0   27  \n",
       "1            1                  0        0       0   34  \n",
       "2            1                  0        0       0   30  \n",
       "3            1                  0        0       0   62  \n",
       "4            0                  0        0       0   62  "
      ]
     },
     "execution_count": 18,
     "metadata": {},
     "output_type": "execute_result"
    }
   ],
   "source": [
    "df_1 = df[['Risk','Treatment Response_en','Lymph Nodes_en','Tumor_en','Stage_en','Focality_en','Cancer Metastasis','Smoking','Gender','Age']]\n",
    "\n",
    "df_1.head()"
   ]
  },
  {
   "cell_type": "code",
   "execution_count": 19,
   "id": "0344bf26",
   "metadata": {},
   "outputs": [
    {
     "data": {
      "text/plain": [
       "Risk                     0\n",
       "Treatment Response_en    0\n",
       "Lymph Nodes_en           0\n",
       "Tumor_en                 0\n",
       "Stage_en                 0\n",
       "Focality_en              0\n",
       "Cancer Metastasis        0\n",
       "Smoking                  0\n",
       "Gender                   0\n",
       "Age                      0\n",
       "dtype: int64"
      ]
     },
     "execution_count": 19,
     "metadata": {},
     "output_type": "execute_result"
    }
   ],
   "source": [
    "df_1.isnull().sum()"
   ]
  },
  {
   "cell_type": "code",
   "execution_count": 20,
   "id": "c648c931",
   "metadata": {},
   "outputs": [
    {
     "data": {
      "text/html": [
       "<div>\n",
       "<style scoped>\n",
       "    .dataframe tbody tr th:only-of-type {\n",
       "        vertical-align: middle;\n",
       "    }\n",
       "\n",
       "    .dataframe tbody tr th {\n",
       "        vertical-align: top;\n",
       "    }\n",
       "\n",
       "    .dataframe thead th {\n",
       "        text-align: right;\n",
       "    }\n",
       "</style>\n",
       "<table border=\"1\" class=\"dataframe\">\n",
       "  <thead>\n",
       "    <tr style=\"text-align: right;\">\n",
       "      <th></th>\n",
       "      <th>Risk</th>\n",
       "      <th>Treatment Response_en</th>\n",
       "      <th>Lymph Nodes_en</th>\n",
       "      <th>Tumor_en</th>\n",
       "      <th>Stage_en</th>\n",
       "      <th>Focality_en</th>\n",
       "      <th>Cancer Metastasis</th>\n",
       "      <th>Smoking</th>\n",
       "      <th>Gender</th>\n",
       "      <th>Age</th>\n",
       "    </tr>\n",
       "  </thead>\n",
       "  <tbody>\n",
       "    <tr>\n",
       "      <th>count</th>\n",
       "      <td>383.000000</td>\n",
       "      <td>383.000000</td>\n",
       "      <td>383.000000</td>\n",
       "      <td>383.000000</td>\n",
       "      <td>383.000000</td>\n",
       "      <td>383.000000</td>\n",
       "      <td>383.000000</td>\n",
       "      <td>383.000000</td>\n",
       "      <td>383.000000</td>\n",
       "      <td>383.000000</td>\n",
       "    </tr>\n",
       "    <tr>\n",
       "      <th>mean</th>\n",
       "      <td>0.433420</td>\n",
       "      <td>1.574413</td>\n",
       "      <td>0.543081</td>\n",
       "      <td>2.206266</td>\n",
       "      <td>0.242820</td>\n",
       "      <td>0.644909</td>\n",
       "      <td>0.046997</td>\n",
       "      <td>0.127937</td>\n",
       "      <td>0.185379</td>\n",
       "      <td>40.866841</td>\n",
       "    </tr>\n",
       "    <tr>\n",
       "      <th>std</th>\n",
       "      <td>0.643233</td>\n",
       "      <td>0.917585</td>\n",
       "      <td>0.857732</td>\n",
       "      <td>1.344667</td>\n",
       "      <td>0.773274</td>\n",
       "      <td>0.479167</td>\n",
       "      <td>0.211910</td>\n",
       "      <td>0.334457</td>\n",
       "      <td>0.389113</td>\n",
       "      <td>15.134494</td>\n",
       "    </tr>\n",
       "    <tr>\n",
       "      <th>min</th>\n",
       "      <td>0.000000</td>\n",
       "      <td>0.000000</td>\n",
       "      <td>0.000000</td>\n",
       "      <td>0.000000</td>\n",
       "      <td>0.000000</td>\n",
       "      <td>0.000000</td>\n",
       "      <td>0.000000</td>\n",
       "      <td>0.000000</td>\n",
       "      <td>0.000000</td>\n",
       "      <td>15.000000</td>\n",
       "    </tr>\n",
       "    <tr>\n",
       "      <th>25%</th>\n",
       "      <td>0.000000</td>\n",
       "      <td>1.000000</td>\n",
       "      <td>0.000000</td>\n",
       "      <td>2.000000</td>\n",
       "      <td>0.000000</td>\n",
       "      <td>0.000000</td>\n",
       "      <td>0.000000</td>\n",
       "      <td>0.000000</td>\n",
       "      <td>0.000000</td>\n",
       "      <td>29.000000</td>\n",
       "    </tr>\n",
       "    <tr>\n",
       "      <th>50%</th>\n",
       "      <td>0.000000</td>\n",
       "      <td>1.000000</td>\n",
       "      <td>0.000000</td>\n",
       "      <td>2.000000</td>\n",
       "      <td>0.000000</td>\n",
       "      <td>1.000000</td>\n",
       "      <td>0.000000</td>\n",
       "      <td>0.000000</td>\n",
       "      <td>0.000000</td>\n",
       "      <td>37.000000</td>\n",
       "    </tr>\n",
       "    <tr>\n",
       "      <th>75%</th>\n",
       "      <td>1.000000</td>\n",
       "      <td>2.000000</td>\n",
       "      <td>1.000000</td>\n",
       "      <td>3.000000</td>\n",
       "      <td>0.000000</td>\n",
       "      <td>1.000000</td>\n",
       "      <td>0.000000</td>\n",
       "      <td>0.000000</td>\n",
       "      <td>0.000000</td>\n",
       "      <td>51.000000</td>\n",
       "    </tr>\n",
       "    <tr>\n",
       "      <th>max</th>\n",
       "      <td>2.000000</td>\n",
       "      <td>3.000000</td>\n",
       "      <td>2.000000</td>\n",
       "      <td>6.000000</td>\n",
       "      <td>4.000000</td>\n",
       "      <td>1.000000</td>\n",
       "      <td>1.000000</td>\n",
       "      <td>1.000000</td>\n",
       "      <td>1.000000</td>\n",
       "      <td>82.000000</td>\n",
       "    </tr>\n",
       "  </tbody>\n",
       "</table>\n",
       "</div>"
      ],
      "text/plain": [
       "             Risk  Treatment Response_en  Lymph Nodes_en    Tumor_en  \\\n",
       "count  383.000000             383.000000      383.000000  383.000000   \n",
       "mean     0.433420               1.574413        0.543081    2.206266   \n",
       "std      0.643233               0.917585        0.857732    1.344667   \n",
       "min      0.000000               0.000000        0.000000    0.000000   \n",
       "25%      0.000000               1.000000        0.000000    2.000000   \n",
       "50%      0.000000               1.000000        0.000000    2.000000   \n",
       "75%      1.000000               2.000000        1.000000    3.000000   \n",
       "max      2.000000               3.000000        2.000000    6.000000   \n",
       "\n",
       "         Stage_en  Focality_en  Cancer Metastasis     Smoking      Gender  \\\n",
       "count  383.000000   383.000000         383.000000  383.000000  383.000000   \n",
       "mean     0.242820     0.644909           0.046997    0.127937    0.185379   \n",
       "std      0.773274     0.479167           0.211910    0.334457    0.389113   \n",
       "min      0.000000     0.000000           0.000000    0.000000    0.000000   \n",
       "25%      0.000000     0.000000           0.000000    0.000000    0.000000   \n",
       "50%      0.000000     1.000000           0.000000    0.000000    0.000000   \n",
       "75%      0.000000     1.000000           0.000000    0.000000    0.000000   \n",
       "max      4.000000     1.000000           1.000000    1.000000    1.000000   \n",
       "\n",
       "              Age  \n",
       "count  383.000000  \n",
       "mean    40.866841  \n",
       "std     15.134494  \n",
       "min     15.000000  \n",
       "25%     29.000000  \n",
       "50%     37.000000  \n",
       "75%     51.000000  \n",
       "max     82.000000  "
      ]
     },
     "execution_count": 20,
     "metadata": {},
     "output_type": "execute_result"
    }
   ],
   "source": [
    "df_1.describe()"
   ]
  },
  {
   "cell_type": "markdown",
   "id": "4a68a127",
   "metadata": {},
   "source": [
    "# To detect outlier by distribution plot"
   ]
  },
  {
   "cell_type": "code",
   "execution_count": 21,
   "id": "d766b95f",
   "metadata": {},
   "outputs": [
    {
     "data": {
      "image/png": "[encoded data removed]",
      "text/plain": [
       "<Figure size 1000x600 with 6 Axes>"
      ]
     },
     "metadata": {},
     "output_type": "display_data"
    }
   ],
   "source": [
    "plt.figure(figsize=(10,6))\n",
    "plotnumber = 1\n",
    "\n",
    "for column in df_1:\n",
    "    if plotnumber<= 6:\n",
    "        ax = plt.subplot(3,3,plotnumber)\n",
    "        sns.distplot(df_1[column])\n",
    "        plt.xlabel(column,fontsize=20)\n",
    "        \n",
    "    plotnumber+=1   \n",
    "plt.tight_layout() "
   ]
  },
  {
   "cell_type": "markdown",
   "id": "0952ca1d",
   "metadata": {},
   "source": [
    "Insights: there is no outliers so don't need to apply VIF or Z-Score method"
   ]
  },
  {
   "cell_type": "markdown",
   "id": "5788897f",
   "metadata": {},
   "source": [
    "# Data Visualization"
   ]
  },
  {
   "cell_type": "code",
   "execution_count": 22,
   "id": "eca8d56d",
   "metadata": {},
   "outputs": [
    {
     "data": {
      "image/png": "[encoded data removed]",
      "text/plain": [
       "<Figure size 1000x600 with 1 Axes>"
      ]
     },
     "metadata": {},
     "output_type": "display_data"
    }
   ],
   "source": [
    "plt.figure(figsize=(10, 6))\n",
    "sns.histplot(df_1['Age'], bins=20, kde=True)\n",
    "plt.xlabel('Age')\n",
    "plt.ylabel('Frequency')\n",
    "plt.title('Distribution of Age')\n",
    "plt.show()"
   ]
  },
  {
   "cell_type": "markdown",
   "id": "c88ee3a2",
   "metadata": {},
   "source": [
    "Insight: From the above plot we can conclude that the majority of patients have a 40 and 41 years old"
   ]
  },
  {
   "cell_type": "code",
   "execution_count": 23,
   "id": "34f709f2",
   "metadata": {},
   "outputs": [
    {
     "data": {
      "image/png": "[encoded data removed]",
      "text/plain": [
       "<Figure size 1000x600 with 3 Axes>"
      ]
     },
     "metadata": {},
     "output_type": "display_data"
    }
   ],
   "source": [
    "plt.figure(figsize=(10,6))\n",
    "plotnumber = 1\n",
    "\n",
    "for column in df_1[['Smoking','Treatment Response_en','Gender']]:\n",
    "    if plotnumber<= 6:\n",
    "        ax = plt.subplot(3,3,plotnumber)\n",
    "        sns.countplot(df_1[column],palette='OrRd')\n",
    "        plt.xlabel(column,fontsize=10)\n",
    "        \n",
    "    plotnumber+=1   \n",
    "plt.tight_layout() "
   ]
  },
  {
   "cell_type": "markdown",
   "id": "32b28e08",
   "metadata": {},
   "source": [
    "1.From the above plot we conclude that the majority of people who has a thyroid Cancer are Female\n",
    "\n",
    "2.Smoking does not affect on the thyroid cancer\n",
    "\n",
    "3.Rate of recovery from the Thyroid cancer are very large"
   ]
  },
  {
   "cell_type": "code",
   "execution_count": 24,
   "id": "216496a3",
   "metadata": {},
   "outputs": [
    {
     "data": {
      "image/png": "[encoded data removed]",
      "text/plain": [
       "<Figure size 1400x800 with 1 Axes>"
      ]
     },
     "metadata": {},
     "output_type": "display_data"
    }
   ],
   "source": [
    "plt.figure(figsize=(14, 8))\n",
    "sns.scatterplot(x='Risk', y='Age', data=df, palette='OrRd')\n",
    "plt.title('Distribution of Ages by Risk Category')\n",
    "plt.xlabel('Risk Category')\n",
    "plt.ylabel('Age')\n",
    "plt.show()"
   ]
  },
  {
   "cell_type": "markdown",
   "id": "a30082d2",
   "metadata": {},
   "source": [
    "# we check multicolinearity using heat map"
   ]
  },
  {
   "cell_type": "code",
   "execution_count": 25,
   "id": "91580f1b",
   "metadata": {},
   "outputs": [
    {
     "data": {
      "image/png": "[encoded data removed]",
      "text/plain": [
       "<Figure size 1000x600 with 2 Axes>"
      ]
     },
     "metadata": {},
     "output_type": "display_data"
    }
   ],
   "source": [
    "df_corr = df_1.corr().abs()\n",
    "\n",
    "plt.figure(figsize=(10,6))\n",
    "sns.heatmap(df_corr, annot=True, annot_kws={'size': 6})\n",
    "plt.title('correlation of features')\n",
    "plt.show()"
   ]
  },
  {
   "cell_type": "markdown",
   "id": "63c9d454",
   "metadata": {},
   "source": [
    "Insight: There are no correlation about each other of features.so no need to drop any feature"
   ]
  },
  {
   "cell_type": "code",
   "execution_count": 26,
   "id": "de930b70",
   "metadata": {},
   "outputs": [],
   "source": [
    "# Select the top 10 features based on ANOVA F-test\n",
    "\n",
    "# k_best = SelectKBest(score_func=f_classif, k=10)\n",
    "# X_train_best = k_best.fit_transform(x_train, y_train)\n",
    "# X_test_best = k_best.transform(x_test)\n",
    "\n"
   ]
  },
  {
   "cell_type": "markdown",
   "id": "1c432da4",
   "metadata": {},
   "source": [
    "# Split the model into train and test"
   ]
  },
  {
   "cell_type": "code",
   "execution_count": 27,
   "id": "1a02df6d",
   "metadata": {},
   "outputs": [],
   "source": [
    "x_train, x_test, y_train, y_test = train_test_split(df_1, y, test_size=0.2, random_state=42)"
   ]
  },
  {
   "cell_type": "markdown",
   "id": "11bb17e9",
   "metadata": {},
   "source": [
    "# Model Prediction"
   ]
  },
  {
   "cell_type": "code",
   "execution_count": 28,
   "id": "9aa3b183",
   "metadata": {},
   "outputs": [],
   "source": [
    "def metric_score(clf, x_train, x_test, y_train, y_test, train=True):\n",
    "    if train:\n",
    "        y_pred = clf.predict(x_train)\n",
    "        print('\\n--------------------------Train result----------------------------------')\n",
    "        print(f\"Accuracy Score: {accuracy_score(y_train, y_pred) * 100:.2f}%\")\n",
    "        print(\"Classification Report:\\n\", classification_report(y_train, y_pred))\n",
    "    else:\n",
    "        y_pred = clf.predict(x_test)\n",
    "        print('\\n--------------------------Test result----------------------------------')\n",
    "        print(f\"Accuracy Score: {accuracy_score(y_test, y_pred) * 100:.2f}%\")\n",
    "        print(\"Classification Report:\\n\", classification_report(y_test, y_pred))"
   ]
  },
  {
   "cell_type": "markdown",
   "id": "e640babd",
   "metadata": {},
   "source": [
    "# Rabdom forest"
   ]
  },
  {
   "cell_type": "code",
   "execution_count": 29,
   "id": "fdcebbed",
   "metadata": {},
   "outputs": [
    {
     "data": {
      "text/plain": [
       "RandomForestClassifier(random_state=42)"
      ]
     },
     "execution_count": 29,
     "metadata": {},
     "output_type": "execute_result"
    }
   ],
   "source": [
    "# Model Training\n",
    "\n",
    "clf = RandomForestClassifier(random_state=42)\n",
    "clf.fit(x_train,y_train)"
   ]
  },
  {
   "cell_type": "code",
   "execution_count": 30,
   "id": "f0dd60a5",
   "metadata": {},
   "outputs": [
    {
     "name": "stdout",
     "output_type": "stream",
     "text": [
      "\n",
      "--------------------------Train result----------------------------------\n",
      "Accuracy Score: 100.00%\n",
      "Classification Report:\n",
      "               precision    recall  f1-score   support\n",
      "\n",
      "           0       1.00      1.00      1.00       217\n",
      "           1       1.00      1.00      1.00        89\n",
      "\n",
      "    accuracy                           1.00       306\n",
      "   macro avg       1.00      1.00      1.00       306\n",
      "weighted avg       1.00      1.00      1.00       306\n",
      "\n",
      "\n",
      "--------------------------Test result----------------------------------\n",
      "Accuracy Score: 98.70%\n",
      "Classification Report:\n",
      "               precision    recall  f1-score   support\n",
      "\n",
      "           0       0.98      1.00      0.99        58\n",
      "           1       1.00      0.95      0.97        19\n",
      "\n",
      "    accuracy                           0.99        77\n",
      "   macro avg       0.99      0.97      0.98        77\n",
      "weighted avg       0.99      0.99      0.99        77\n",
      "\n"
     ]
    }
   ],
   "source": [
    "metric_score(clf,x_train,x_test,y_train,y_test, train=True)\n",
    "\n",
    "metric_score(clf,x_train,x_test,y_train,y_test, train=False)"
   ]
  },
  {
   "cell_type": "code",
   "execution_count": 31,
   "id": "a5122789",
   "metadata": {},
   "outputs": [
    {
     "name": "stdout",
     "output_type": "stream",
     "text": [
      "Random Forest Classifier\n",
      "------------------------------------------------------------\n",
      "Accuracy 98.7 %\n"
     ]
    }
   ],
   "source": [
    "y_pred = clf.predict(x_test)\n",
    "\n",
    "print('Random Forest Classifier')\n",
    "print('--'*30)\n",
    "model_accuracy = round(accuracy_score(y_test, y_pred) * 100,2)\n",
    "print('Accuracy', model_accuracy,'%')"
   ]
  },
  {
   "cell_type": "code",
   "execution_count": 32,
   "id": "301d756f",
   "metadata": {},
   "outputs": [
    {
     "name": "stdout",
     "output_type": "stream",
     "text": [
      "Precision: 1.00\n",
      "Recall: 0.95\n",
      "------------------------------------------------------------\n"
     ]
    },
    {
     "data": {
      "image/png": "[encoded data removed]",
      "text/plain": [
       "<Figure size 640x480 with 2 Axes>"
      ]
     },
     "metadata": {},
     "output_type": "display_data"
    }
   ],
   "source": [
    "cm = confusion_matrix(y_test, y_pred)\n",
    "\n",
    "cm\n",
    "\n",
    "sns.heatmap(cm, annot=True, fmt=\"d\")\n",
    "\n",
    "# Calculate precision and recall\n",
    "precision = precision_score(y_test, y_pred)\n",
    "recall = recall_score(y_test, y_pred)\n",
    "\n",
    "print(f'Precision: {precision:.2f}')\n",
    "print(f'Recall: {recall:.2f}')\n",
    "print(\"--\"*30)"
   ]
  },
  {
   "cell_type": "markdown",
   "id": "01eb8c7e",
   "metadata": {},
   "source": [
    "Comments:\n",
    "\n",
    "The model demonstrates exceptional precision and recall for both classes.\n",
    "It maintains a strong balance between precision and recall, with only a slight decrease in recall for class \"Yes\".\n",
    "-----------------------------------------------\n",
    "This Model's Accuraccy is 98%"
   ]
  },
  {
   "cell_type": "markdown",
   "id": "73ae59ae",
   "metadata": {},
   "source": [
    "# Decision Tree"
   ]
  },
  {
   "cell_type": "code",
   "execution_count": 33,
   "id": "17327e0b",
   "metadata": {},
   "outputs": [
    {
     "data": {
      "text/plain": [
       "DecisionTreeClassifier(random_state=42)"
      ]
     },
     "execution_count": 33,
     "metadata": {},
     "output_type": "execute_result"
    }
   ],
   "source": [
    "from sklearn.tree import DecisionTreeClassifier\n",
    "\n",
    "clf = DecisionTreeClassifier(random_state=42)\n",
    "clf.fit(x_train,y_train)"
   ]
  },
  {
   "cell_type": "code",
   "execution_count": 34,
   "id": "0f862c3e",
   "metadata": {},
   "outputs": [
    {
     "name": "stdout",
     "output_type": "stream",
     "text": [
      "\n",
      "--------------------------Train result----------------------------------\n",
      "Accuracy Score: 100.00%\n",
      "Classification Report:\n",
      "               precision    recall  f1-score   support\n",
      "\n",
      "           0       1.00      1.00      1.00       217\n",
      "           1       1.00      1.00      1.00        89\n",
      "\n",
      "    accuracy                           1.00       306\n",
      "   macro avg       1.00      1.00      1.00       306\n",
      "weighted avg       1.00      1.00      1.00       306\n",
      "\n",
      "\n",
      "--------------------------Test result----------------------------------\n",
      "Accuracy Score: 92.21%\n",
      "Classification Report:\n",
      "               precision    recall  f1-score   support\n",
      "\n",
      "           0       0.95      0.95      0.95        58\n",
      "           1       0.84      0.84      0.84        19\n",
      "\n",
      "    accuracy                           0.92        77\n",
      "   macro avg       0.90      0.90      0.90        77\n",
      "weighted avg       0.92      0.92      0.92        77\n",
      "\n"
     ]
    }
   ],
   "source": [
    "metric_score(clf,x_train,x_test,y_train,y_test, train=True)\n",
    "\n",
    "metric_score(clf,x_train,x_test,y_train,y_test, train=False)"
   ]
  },
  {
   "cell_type": "code",
   "execution_count": 35,
   "id": "28dd19b2",
   "metadata": {},
   "outputs": [
    {
     "name": "stdout",
     "output_type": "stream",
     "text": [
      "Decision Tree Classifier\n",
      "------------------------------------------------------------\n",
      "Accuracy 92.21 %\n"
     ]
    }
   ],
   "source": [
    "y_pred = clf.predict(x_test)\n",
    "\n",
    "print('Decision Tree Classifier')\n",
    "print('--'*30)\n",
    "Dtree_accuracy = round(accuracy_score(y_test, y_pred) * 100,2)\n",
    "print('Accuracy', Dtree_accuracy,'%')"
   ]
  },
  {
   "cell_type": "code",
   "execution_count": 36,
   "id": "e43e9b5c",
   "metadata": {},
   "outputs": [
    {
     "name": "stdout",
     "output_type": "stream",
     "text": [
      "Precision: 0.84\n",
      "Recall: 0.84\n",
      "------------------------------------------------------------\n"
     ]
    },
    {
     "data": {
      "image/png": "[encoded data removed]",
      "text/plain": [
       "<Figure size 640x480 with 2 Axes>"
      ]
     },
     "metadata": {},
     "output_type": "display_data"
    }
   ],
   "source": [
    "cm = confusion_matrix(y_test, y_pred)\n",
    "\n",
    "cm\n",
    "\n",
    "sns.heatmap(cm, annot=True, fmt=\"d\")\n",
    "\n",
    "# Calculate precision and recall\n",
    "precision = precision_score(y_test, y_pred)\n",
    "recall = recall_score(y_test, y_pred)\n",
    "\n",
    "print(f'Precision: {precision:.2f}')\n",
    "print(f'Recall: {recall:.2f}')\n",
    "print(\"--\"*30)"
   ]
  },
  {
   "cell_type": "markdown",
   "id": "a6dbf3fd",
   "metadata": {},
   "source": [
    "Comments:\n",
    "\n",
    "The model demonstrates exceptional precision and recall for both classes.\n",
    "It maintains a strong balance between precision and recall.\n",
    "-------------------------------------------------------------------\n",
    "This Model's Accuracy is 92%"
   ]
  },
  {
   "cell_type": "code",
   "execution_count": null,
   "id": "73153113",
   "metadata": {},
   "outputs": [],
   "source": []
  }
 ],
 "metadata": {
  "kernelspec": {
   "display_name": "Python 3 (ipykernel)",
   "language": "python",
   "name": "python3"
  },
  "language_info": {
   "codemirror_mode": {
    "name": "ipython",
    "version": 3
   },
   "file_extension": ".py",
   "mimetype": "text/x-python",
   "name": "python",
   "nbconvert_exporter": "python",
   "pygments_lexer": "ipython3",
   "version": "3.9.13"
  }
 },
 "nbformat": 4,
 "nbformat_minor": 5
}
